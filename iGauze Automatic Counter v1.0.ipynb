{
 "cells": [
  {
   "cell_type": "markdown",
   "id": "516781de",
   "metadata": {},
   "source": [
    "# 1. Install Dependencies : Edited by Abu"
   ]
  },
  {
   "cell_type": "markdown",
   "id": "47f72e09",
   "metadata": {},
   "source": [
    "pip install torch from https://pytorch.org/ based on your specs"
   ]
  },
  {
   "cell_type": "code",
   "execution_count": 1,
   "id": "a150a308",
   "metadata": {},
   "outputs": [
    {
     "name": "stderr",
     "output_type": "stream",
     "text": [
      "Cloning into 'yolov5'...\n"
     ]
    }
   ],
   "source": [
    "#install YOLOv5\n",
    "!git clone https://github.com/ultralytics/yolov5"
   ]
  },
  {
   "cell_type": "code",
   "execution_count": 1,
   "id": "71a9ed94",
   "metadata": {},
   "outputs": [],
   "source": [
    "#Don't run to avoid dependency issues\n",
    "#!cd yolov5 & pip install -r requirements.txt"
   ]
  },
  {
   "cell_type": "code",
   "execution_count": 4,
   "id": "1600156a",
   "metadata": {},
   "outputs": [
    {
     "data": {
      "text/plain": [
       "'2.1.1+cu118'"
      ]
     },
     "execution_count": 4,
     "metadata": {},
     "output_type": "execute_result"
    }
   ],
   "source": [
    "import torch\n",
    "torch.__version__\n",
    "#'2.1.1+cu118'- should be the output"
   ]
  },
  {
   "cell_type": "markdown",
   "id": "f6e2c527",
   "metadata": {},
   "source": [
    "# 2. Realtime Gauze Detection w/ 2 Webcams"
   ]
  },
  {
   "cell_type": "code",
   "execution_count": 5,
   "id": "acbfcf9d",
   "metadata": {},
   "outputs": [
    {
     "name": "stderr",
     "output_type": "stream",
     "text": [
      "Downloading: \"https://github.com/ultralytics/yolov5/zipball/master\" to C:\\Users\\krish/.cache\\torch\\hub\\master.zip\n",
      "\u001b[31m\u001b[1mrequirements:\u001b[0m Ultralytics requirements ['Pillow>=10.0.1', 'scipy>=1.4.1', 'ultralytics>=8.0.147', 'seaborn>=0.11.0'] not found, attempting AutoUpdate...\n",
      "\u001b[31m\u001b[1mrequirements:\u001b[0m  Command 'pip install --no-cache \"Pillow>=10.0.1\" \"scipy>=1.4.1\" \"ultralytics>=8.0.147\" \"seaborn>=0.11.0\" ' returned non-zero exit status 1.\n",
      "YOLOv5  2023-12-10 Python-3.9.12 torch-2.1.1+cu118 CUDA:0 (NVIDIA GeForce MX250, 2048MiB)\n",
      "\n",
      "Fusing layers... \n",
      "Model summary: 267 layers, 46108278 parameters, 0 gradients, 107.6 GFLOPs\n",
      "Adding AutoShape... \n",
      "Downloading: \"https://github.com/ultralytics/yolov5/zipball/master\" to C:\\Users\\krish/.cache\\torch\\hub\\master.zip\n",
      "\u001b[31m\u001b[1mrequirements:\u001b[0m Ultralytics requirements ['Pillow>=10.0.1', 'scipy>=1.4.1', 'ultralytics>=8.0.147', 'seaborn>=0.11.0'] not found, attempting AutoUpdate...\n",
      "\u001b[31m\u001b[1mrequirements:\u001b[0m  Command 'pip install --no-cache \"Pillow>=10.0.1\" \"scipy>=1.4.1\" \"ultralytics>=8.0.147\" \"seaborn>=0.11.0\" ' returned non-zero exit status 1.\n",
      "YOLOv5  2023-12-10 Python-3.9.12 torch-2.1.1+cu118 CUDA:0 (NVIDIA GeForce MX250, 2048MiB)\n",
      "\n",
      "Fusing layers... \n",
      "YOLOv5x6 summary: 574 layers, 140730220 parameters, 0 gradients, 209.6 GFLOPs\n",
      "Adding AutoShape... \n"
     ]
    }
   ],
   "source": [
    "#for the timebeing just add another letter to increase/decrease the counts\n",
    "from matplotlib import pyplot as plt\n",
    "import numpy as np\n",
    "import cv2\n",
    "import time\n",
    "\n",
    "# YOLOv5\n",
    "model = torch.hub.load('ultralytics/yolov5', 'custom', path='../yolov5-master/202318JUL.pt', force_reload=True)\n",
    "model2 = torch.hub.load('ultralytics/yolov5', 'yolov5x6', force_reload=True)\n",
    "\n",
    "model.conf = 0.50\n",
    "#model.max_det = 20\n",
    "model.classes = [0]\n",
    "model2.conf = 0.25\n",
    "#model2.max_det = 20\n",
    "model2.classes = [0]\n",
    "\n",
    "onscreenIn, onscreenOut, countIn, countOut, frameCountIn, frameCountOut, startTime, endTime, countPlay = 0, 0, 0, 0, 0, 0, 0, 0, 0\n",
    "condition = 7\n",
    "cap1 = cv2.VideoCapture(0)\n",
    "#Check this\n",
    "cap2 = cv2.VideoCapture(1)\n",
    "\n",
    "while True:\n",
    "    ret, frame1 = cap1.read()\n",
    "    ret, frame2 = cap2.read()\n",
    "\n",
    "    # Make detections\n",
    "    pic = np.hstack((frame1, frame2))\n",
    "    results = model(np.hstack((frame1, frame2)))\n",
    "    results2 = model2(np.hstack((frame1, frame2)))\n",
    "\n",
    "    a, b, c, d = 0, 0, 0, 0\n",
    "    for detection in results.xyxy[0]:\n",
    "\n",
    "        # Gauze detection\n",
    "        if detection[5].item() in model.classes:\n",
    "            if detection[2].item() <= frame1.shape[1]:  ##xmax < middle line\n",
    "                a += 1\n",
    "            elif detection[2].item() > frame1.shape[1]:\n",
    "                b += 1\n",
    "\n",
    "    for detection in results2.xyxy[0]:\n",
    "        # Human detection\n",
    "        if detection[5].item() == 0:\n",
    "            if detection[2].item() <= frame1.shape[1]:  ##xmax < middle line\n",
    "                c += 1\n",
    "            elif detection[2].item() > frame1.shape[1]:\n",
    "                d += 1\n",
    "\n",
    "    image = np.squeeze(results.render())\n",
    "\n",
    "    # Adding black border at the bottom\n",
    "    borderedFrame = cv2.copyMakeBorder(image, 0, 350, 640 - frame1.shape[1], 640 - frame2.shape[1], cv2.BORDER_CONSTANT,\n",
    "                                       value=[0, 0, 0])\n",
    "\n",
    "    if c == 0:\n",
    "        tempcount1 = a\n",
    "        if tempcount1 != onscreenIn:\n",
    "            frameCountIn += 1\n",
    "            if frameCountIn == condition:\n",
    "                if tempcount1 > onscreenIn:\n",
    "                    countIn += tempcount1 - onscreenIn\n",
    "                onscreenIn = tempcount1\n",
    "        else:\n",
    "            frameCountIn = 0\n",
    "        cv2.putText(borderedFrame, 'On Screen =' + str(onscreenIn), (300, 30), cv2.FONT_HERSHEY_SIMPLEX, 1,\n",
    "                    (255, 255, 255), 2, cv2.LINE_AA)\n",
    "        cv2.putText(borderedFrame, 'Total In =' + str(countIn), (300, 55), cv2.FONT_HERSHEY_SIMPLEX, 1, (255, 255, 255),\n",
    "                    2, cv2.LINE_AA)\n",
    "    else:\n",
    "        cv2.putText(borderedFrame, 'On Screen =' + 'Paused', (300, 30), cv2.FONT_HERSHEY_SIMPLEX, 1, (255, 255, 255), 2,\n",
    "                    cv2.LINE_AA)\n",
    "        cv2.putText(borderedFrame, 'Total In =' + 'Paused', (300, 55), cv2.FONT_HERSHEY_SIMPLEX, 1, (255, 255, 255), 2,\n",
    "                    cv2.LINE_AA)\n",
    "        cv2.putText(borderedFrame, 'Human Detected', (200, 400), cv2.FONT_HERSHEY_SIMPLEX, 1, (255, 255, 255), 2,\n",
    "                    cv2.LINE_AA)\n",
    "\n",
    "    if d == 0:\n",
    "        tempcount2 = b\n",
    "        if tempcount2 != onscreenOut:\n",
    "            frameCountOut += 1\n",
    "            if frameCountOut == condition:\n",
    "                if tempcount2 > onscreenOut:\n",
    "                    countOut += tempcount2 - onscreenOut\n",
    "                onscreenOut = tempcount2\n",
    "        else:\n",
    "            frameCountOut = 0\n",
    "        cv2.putText(borderedFrame, 'On Screen =' + str(onscreenOut), (940, 30), cv2.FONT_HERSHEY_SIMPLEX, 1, (255, 255, 255), 2,\n",
    "                    cv2.LINE_AA)\n",
    "        cv2.putText(borderedFrame, 'Total Out =' + str(countOut), (940, 55), cv2.FONT_HERSHEY_SIMPLEX, 1, (255, 255, 255), 2,\n",
    "                    cv2.LINE_AA)\n",
    "    else:\n",
    "        cv2.putText(borderedFrame, 'On Screen =' + 'Paused', (940, 30), cv2.FONT_HERSHEY_SIMPLEX, 1, (255, 255, 255), 2, cv2.LINE_AA)\n",
    "        cv2.putText(borderedFrame, 'Total Out =' + 'Paused', (940, 55), cv2.FONT_HERSHEY_SIMPLEX, 1, (255, 255, 255), 2, cv2.LINE_AA)\n",
    "        cv2.putText(borderedFrame, 'Human Detected', (840, 400), cv2.FONT_HERSHEY_SIMPLEX, 1, (255, 255, 255), 2, cv2.LINE_AA)\n",
    "\n",
    "    # FPS Counter\n",
    "    endTime = time.time()\n",
    "    fps = 1 / (endTime - startTime)\n",
    "    startTime = time.time()\n",
    "    cv2.putText(borderedFrame, \"FPS =\" + str(round(fps, 1)), (540, 520), cv2.FONT_HERSHEY_SIMPLEX, 1, (255, 255, 255),\n",
    "                2, cv2.LINE_AA)\n",
    "\n",
    "    # Gauze In-Play Counter\n",
    "    countPlay = countIn - onscreenIn - countOut\n",
    "    cv2.putText(borderedFrame, 'In Play =' + str(countPlay), (360, 650), cv2.FONT_HERSHEY_SIMPLEX, 4, (0, 0, 255), 4,\n",
    "                cv2.LINE_AA)\n",
    "\n",
    "    cv2.imshow('Gauze', borderedFrame)\n",
    "\n",
    "    if cv2.waitKey(10) & 0xFF == ord('q'):\n",
    "        break\n",
    "\n",
    "cap1.release()\n",
    "cap2.release()\n",
    "cv2.destroyAllWindows()"
   ]
  },
  {
   "cell_type": "code",
   "execution_count": 4,
   "id": "a49201ee",
   "metadata": {},
   "outputs": [
    {
     "data": {
      "text/plain": [
       "False"
      ]
     },
     "execution_count": 4,
     "metadata": {},
     "output_type": "execute_result"
    }
   ],
   "source": [
    "torch.cuda.is_available()"
   ]
  },
  {
   "cell_type": "code",
   "execution_count": null,
   "id": "82fe47c7",
   "metadata": {},
   "outputs": [],
   "source": []
  }
 ],
 "metadata": {
  "kernelspec": {
   "display_name": "Python 3 (ipykernel)",
   "language": "python",
   "name": "python3"
  },
  "language_info": {
   "codemirror_mode": {
    "name": "ipython",
    "version": 3
   },
   "file_extension": ".py",
   "mimetype": "text/x-python",
   "name": "python",
   "nbconvert_exporter": "python",
   "pygments_lexer": "ipython3",
   "version": "3.9.12"
  }
 },
 "nbformat": 4,
 "nbformat_minor": 5
}
