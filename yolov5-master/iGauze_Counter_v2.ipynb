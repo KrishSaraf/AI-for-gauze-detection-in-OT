{
 "cells": [
  {
   "cell_type": "markdown",
   "id": "516781de",
   "metadata": {},
   "source": [
    "# 1. Install Dependencies"
   ]
  },
  {
   "cell_type": "markdown",
   "id": "47f72e09",
   "metadata": {},
   "source": [
    "pip install torch from https://pytorch.org/ based on your specs"
   ]
  },
  {
   "cell_type": "code",
   "execution_count": 1,
   "id": "a150a308",
   "metadata": {},
   "outputs": [
    {
     "name": "stderr",
     "output_type": "stream",
     "text": [
      "fatal: destination path 'yolov5' already exists and is not an empty directory.\n"
     ]
    }
   ],
   "source": [
    "#install YOLOv5\n",
    "!git clone https://github.com/ultralytics/yolov5"
   ]
  },
  {
   "cell_type": "code",
   "execution_count": 2,
   "id": "71a9ed94",
   "metadata": {},
   "outputs": [],
   "source": [
    "#!cd yolov5 & pip install -r requirements.txt"
   ]
  },
  {
   "cell_type": "markdown",
   "id": "f6e2c527",
   "metadata": {},
   "source": [
    "# 2. Realtime Gauze Detection w/ 2 Webcams"
   ]
  },
  {
   "cell_type": "code",
   "execution_count": 3,
   "id": "30be362b",
   "metadata": {},
   "outputs": [],
   "source": [
    "from threading import Thread\n",
    "import cv2, time\n",
    " \n",
    "class VideoStreamWidget(object):\n",
    "    def __init__(self, src=0):\n",
    "        self.capture = cv2.VideoCapture(src)\n",
    "        # Start the thread to read frames from the video stream\n",
    "        self.thread = Thread(target=self.update, args=())\n",
    "        self.thread.daemon = True\n",
    "        self.thread.start()\n",
    "        self.src=src\n",
    "\n",
    "    def update(self):\n",
    "        # Read the next frame from the stream in a different thread\n",
    "        while True:\n",
    "            if self.capture.isOpened():\n",
    "                (self.status, self.frame) = self.capture.read()\n",
    "            time.sleep(.01)\n",
    "    \n",
    "    def show_frame(self):\n",
    "        \n",
    "        # Display frames in main program\n",
    "        cv2.imshow('frame'+str(self.src), self.frame)\n",
    "        key = cv2.waitKey(1)\n",
    "        if key == ord('q'):\n",
    "            self.capture.release()\n",
    "            cv2.destroyAllWindows()\n",
    "            exit(1)\n",
    "            raise IOError\n",
    "    def send_frame(self):\n",
    "        return self.frame\n",
    "    def terminate_frame(self):\n",
    "        self.capture.release()\n",
    "        raise IOError\n",
    "        \n",
    "\n",
    "#if __name__ == '__main__':\n",
    "#    cap1 = VideoStreamWidget(src=0)\n",
    "#    cap2 = VideoStreamWidget(src=1)\n",
    "#    while True:\n",
    "#        try:\n",
    "#            cap1.show_frame()\n",
    "#            cap2.show_frame()\n",
    "#        except AttributeError:\n",
    "#            pass\n",
    " #       except IOError:\n",
    "  #          break\n"
   ]
  },
  {
   "cell_type": "code",
   "execution_count": 4,
   "id": "0cbceb9b",
   "metadata": {},
   "outputs": [
    {
     "name": "stderr",
     "output_type": "stream",
     "text": [
      "Downloading: \"https://github.com/ultralytics/yolov5/zipball/master\" to C:\\Users\\krish/.cache\\torch\\hub\\master.zip\n",
      "YOLOv5  2023-12-19 Python-3.9.12 torch-2.1.1+cu118 CUDA:0 (NVIDIA GeForce MX250, 2048MiB)\n",
      "\n",
      "Fusing layers... \n",
      "Model summary: 267 layers, 46108278 parameters, 0 gradients, 107.6 GFLOPs\n",
      "Adding AutoShape... \n",
      "Downloading: \"https://github.com/ultralytics/yolov5/zipball/master\" to C:\\Users\\krish/.cache\\torch\\hub\\master.zip\n",
      "YOLOv5  2023-12-19 Python-3.9.12 torch-2.1.1+cu118 CUDA:0 (NVIDIA GeForce MX250, 2048MiB)\n",
      "\n",
      "Fusing layers... \n",
      "YOLOv5x6 summary: 574 layers, 140730220 parameters, 0 gradients, 209.6 GFLOPs\n",
      "Adding AutoShape... \n"
     ]
    }
   ],
   "source": [
    "import torch\n",
    "from matplotlib import pyplot as plt\n",
    "import numpy as np\n",
    "\n",
    "\n",
    "# YOLOv5\n",
    "model = torch.hub.load('ultralytics/yolov5', 'custom', path='../yolov5-master/202318JUL.pt', force_reload=True)\n",
    "model2 = torch.hub.load('ultralytics/yolov5', 'yolov5x6', force_reload=True)\n",
    "\n",
    "model.conf = 0.50\n",
    "#model.max_det = 20\n",
    "model.classes = [0]\n",
    "model2.conf = 0.25\n",
    "#model2.max_det = 20\n",
    "model2.classes = [0]\n",
    "\n"
   ]
  },
  {
   "cell_type": "code",
   "execution_count": 5,
   "id": "438845d8",
   "metadata": {},
   "outputs": [
    {
     "ename": "KeyboardInterrupt",
     "evalue": "",
     "output_type": "error",
     "traceback": [
      "\u001b[1;31m---------------------------------------------------------------------------\u001b[0m",
      "\u001b[1;31mAttributeError\u001b[0m                            Traceback (most recent call last)",
      "Input \u001b[1;32mIn [5]\u001b[0m, in \u001b[0;36m<cell line: 19>\u001b[1;34m()\u001b[0m\n\u001b[0;32m     19\u001b[0m \u001b[38;5;28;01mtry\u001b[39;00m:\n\u001b[1;32m---> 20\u001b[0m     frame1 \u001b[38;5;241m=\u001b[39m \u001b[43mcap1\u001b[49m\u001b[38;5;241;43m.\u001b[39;49m\u001b[43msend_frame\u001b[49m()\n\u001b[0;32m     21\u001b[0m     frame2 \u001b[38;5;241m=\u001b[39m cap2\u001b[38;5;241m.\u001b[39msend_frame()\n",
      "\u001b[1;31mAttributeError\u001b[0m: 'cv2.VideoCapture' object has no attribute 'send_frame'",
      "\nDuring handling of the above exception, another exception occurred:\n",
      "\u001b[1;31mKeyboardInterrupt\u001b[0m                         Traceback (most recent call last)",
      "Input \u001b[1;32mIn [5]\u001b[0m, in \u001b[0;36m<cell line: 19>\u001b[1;34m()\u001b[0m\n\u001b[0;32m    108\u001b[0m         cap1\u001b[38;5;241m.\u001b[39mterminate_frame()\n\u001b[0;32m    109\u001b[0m         cap2\u001b[38;5;241m.\u001b[39mterminate_frame()\n\u001b[1;32m--> 110\u001b[0m \u001b[38;5;28;01mexcept\u001b[39;00m \u001b[38;5;167;43;01mAttributeError\u001b[39;49;00m:\n\u001b[0;32m    111\u001b[0m         \u001b[38;5;28;01mpass\u001b[39;00m\n\u001b[0;32m    112\u001b[0m \u001b[38;5;28;01mexcept\u001b[39;00m \u001b[38;5;167;01mIOError\u001b[39;00m:\n",
      "\u001b[1;31mKeyboardInterrupt\u001b[0m: "
     ]
    }
   ],
   "source": [
    "\n",
    "import torch\n",
    "from matplotlib import pyplot as plt\n",
    "import numpy as np\n",
    "import cv2\n",
    "import time\n",
    "\n",
    "onscreenIn, onscreenOut, countIn, countOut, frameCountIn, frameCountOut, startTime, endTime, countPlay = 0, 0, 0, 0, 0, 0, 0, 0, 0\n",
    "condition = 7\n",
    "cap1 = cv2.VideoCapture(0) \n",
    "cap2=cap1\n",
    "#Check this\n",
    "#cap2 = cv2.VideoCapture(1) old\n",
    "\n",
    "# cap1 = VideoStreamWidget(src=0)\n",
    "# cap2 = VideoStreamWidget(src=1)\n",
    "\n",
    "while True:\n",
    "\n",
    "    try:\n",
    "        frame1 = cap1.send_frame()\n",
    "        frame2 = cap2.send_frame()\n",
    "        print(frame2)\n",
    "          # Make detections\n",
    "        pic = np.hstack((frame1, frame2))\n",
    "        results = model(np.hstack((frame1, frame2)))\n",
    "        results2 = model2(np.hstack((frame1, frame2)))\n",
    "\n",
    "        a, b, c, d = 0, 0, 0, 0\n",
    "        for detection in results.xyxy[0]:\n",
    "\n",
    "            # Gauze detection\n",
    "            if detection[5].item() in model.classes:\n",
    "                if detection[2].item() <= frame1.shape[1]:  ##xmax < middle line\n",
    "                    a += 1\n",
    "                elif detection[2].item() > frame1.shape[1]:\n",
    "                    b += 1\n",
    "\n",
    "        for detection in results2.xyxy[0]:\n",
    "            # Human detection\n",
    "            if detection[5].item() == 0:\n",
    "                if detection[2].item() <= frame1.shape[1]:  ##xmax < middle line\n",
    "                    c += 1\n",
    "                elif detection[2].item() > frame1.shape[1]:\n",
    "                    d += 1\n",
    "\n",
    "        image = np.squeeze(results.render())\n",
    "\n",
    "        # Adding black border at the bottom\n",
    "        borderedFrame = cv2.copyMakeBorder(image, 0, 350, 640 - frame1.shape[1], 640 - frame2.shape[1], cv2.BORDER_CONSTANT,\n",
    "                                        value=[0, 0, 0])\n",
    "\n",
    "        if c == 0:\n",
    "            tempcount1 = a\n",
    "            if tempcount1 != onscreenIn:\n",
    "                frameCountIn += 1\n",
    "                if frameCountIn == condition:\n",
    "                    if tempcount1 > onscreenIn:\n",
    "                        countIn += tempcount1 - onscreenIn\n",
    "                    onscreenIn = tempcount1\n",
    "            else:\n",
    "                frameCountIn = 0\n",
    "            cv2.putText(borderedFrame, 'On Screen =' + str(onscreenIn), (300, 30), cv2.FONT_HERSHEY_SIMPLEX, 1,\n",
    "                        (255, 255, 255), 2, cv2.LINE_AA)\n",
    "            cv2.putText(borderedFrame, 'Total In =' + str(countIn), (300, 55), cv2.FONT_HERSHEY_SIMPLEX, 1, (255, 255, 255),\n",
    "                        2, cv2.LINE_AA)\n",
    "        else:\n",
    "            cv2.putText(borderedFrame, 'On Screen =' + 'Paused', (300, 30), cv2.FONT_HERSHEY_SIMPLEX, 1, (255, 255, 255), 2,\n",
    "                        cv2.LINE_AA)\n",
    "            cv2.putText(borderedFrame, 'Total In =' + 'Paused', (300, 55), cv2.FONT_HERSHEY_SIMPLEX, 1, (255, 255, 255), 2,\n",
    "                        cv2.LINE_AA)\n",
    "            cv2.putText(borderedFrame, 'Human Detected', (200, 400), cv2.FONT_HERSHEY_SIMPLEX, 1, (255, 255, 255), 2,\n",
    "                        cv2.LINE_AA)\n",
    "\n",
    "        if d == 0:\n",
    "            tempcount2 = b\n",
    "            if tempcount2 != onscreenOut:\n",
    "                frameCountOut += 1\n",
    "                if frameCountOut == condition:\n",
    "                    if tempcount2 > onscreenOut:\n",
    "                        countOut += tempcount2 - onscreenOut\n",
    "                    onscreenOut = tempcount2\n",
    "            else:\n",
    "                frameCountOut = 0\n",
    "            cv2.putText(borderedFrame, 'On Screen =' + str(onscreenOut), (940, 30), cv2.FONT_HERSHEY_SIMPLEX, 1, (255, 255, 255), 2,\n",
    "                        cv2.LINE_AA)\n",
    "            cv2.putText(borderedFrame, 'Total Out =' + str(countOut), (940, 55), cv2.FONT_HERSHEY_SIMPLEX, 1, (255, 255, 255), 2,\n",
    "                        cv2.LINE_AA)\n",
    "        else:\n",
    "            cv2.putText(borderedFrame, 'On Screen =' + 'Paused', (940, 30), cv2.FONT_HERSHEY_SIMPLEX, 1, (255, 255, 255), 2, cv2.LINE_AA)\n",
    "            cv2.putText(borderedFrame, 'Total Out =' + 'Paused', (940, 55), cv2.FONT_HERSHEY_SIMPLEX, 1, (255, 255, 255), 2, cv2.LINE_AA)\n",
    "            cv2.putText(borderedFrame, 'Human Detected', (840, 400), cv2.FONT_HERSHEY_SIMPLEX, 1, (255, 255, 255), 2, cv2.LINE_AA)\n",
    "\n",
    "        # FPS Counter\n",
    "        endTime = time.time()\n",
    "        fps = 1 / (endTime - startTime)\n",
    "        startTime = time.time()\n",
    "        cv2.putText(borderedFrame, \"FPS =\" + str(round(fps, 1)), (540, 520), cv2.FONT_HERSHEY_SIMPLEX, 1, (255, 255, 255),\n",
    "                    2, cv2.LINE_AA)\n",
    "\n",
    "        # Gauze In-Play Counter\n",
    "        countPlay = countIn - onscreenIn - countOut\n",
    "        cv2.putText(borderedFrame, 'In Play =' + str(countPlay), (360, 650), cv2.FONT_HERSHEY_SIMPLEX, 4, (0, 0, 255), 4,\n",
    "                    cv2.LINE_AA)\n",
    "\n",
    "        cv2.imshow('Gauze', borderedFrame)\n",
    "\n",
    "        if cv2.waitKey(10) & 0xFF == ord('q'):\n",
    "            cap1.terminate_frame()\n",
    "            cap2.terminate_frame()\n",
    "    except AttributeError:\n",
    "            pass\n",
    "    except IOError:\n",
    "        break\n",
    "\n",
    "  \n",
    "cv2.destroyAllWindows()"
   ]
  },
  {
   "cell_type": "code",
   "execution_count": 1,
   "id": "149fd634",
   "metadata": {},
   "outputs": [
    {
     "ename": "NameError",
     "evalue": "name 'plt' is not defined",
     "output_type": "error",
     "traceback": [
      "\u001b[1;31m---------------------------------------------------------------------------\u001b[0m",
      "\u001b[1;31mNameError\u001b[0m                                 Traceback (most recent call last)",
      "Input \u001b[1;32mIn [1]\u001b[0m, in \u001b[0;36m<cell line: 1>\u001b[1;34m()\u001b[0m\n\u001b[1;32m----> 1\u001b[0m \u001b[43mplt\u001b[49m\u001b[38;5;241m.\u001b[39mimshow(frame2)\n",
      "\u001b[1;31mNameError\u001b[0m: name 'plt' is not defined"
     ]
    }
   ],
   "source": [
    "plt.imshow(frame2)"
   ]
  },
  {
   "cell_type": "code",
   "execution_count": null,
   "id": "2bc78aaf",
   "metadata": {},
   "outputs": [],
   "source": []
  }
 ],
 "metadata": {
  "kernelspec": {
   "display_name": "Python 3 (ipykernel)",
   "language": "python",
   "name": "python3"
  },
  "language_info": {
   "codemirror_mode": {
    "name": "ipython",
    "version": 3
   },
   "file_extension": ".py",
   "mimetype": "text/x-python",
   "name": "python",
   "nbconvert_exporter": "python",
   "pygments_lexer": "ipython3",
   "version": "3.9.12"
  }
 },
 "nbformat": 4,
 "nbformat_minor": 5
}
