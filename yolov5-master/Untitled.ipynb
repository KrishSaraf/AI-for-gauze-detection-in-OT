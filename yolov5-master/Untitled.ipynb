{
 "cells": [
  {
   "cell_type": "code",
   "execution_count": 1,
   "id": "18edf3a4",
   "metadata": {},
   "outputs": [
    {
     "name": "stdout",
     "output_type": "stream",
     "text": [
      "Requirement already satisfied: roboflow in c:\\users\\user\\anaconda3\\envs\\yolov5\\lib\\site-packages (1.1.6)\n",
      "Requirement already satisfied: requests in c:\\users\\user\\anaconda3\\envs\\yolov5\\lib\\site-packages (from roboflow) (2.28.2)\n",
      "Requirement already satisfied: supervision in c:\\users\\user\\anaconda3\\envs\\yolov5\\lib\\site-packages (from roboflow) (0.11.1)\n",
      "Requirement already satisfied: numpy>=1.18.5 in c:\\users\\user\\anaconda3\\envs\\yolov5\\lib\\site-packages (from roboflow) (1.21.6)\n",
      "Requirement already satisfied: urllib3>=1.26.6 in c:\\users\\user\\anaconda3\\envs\\yolov5\\lib\\site-packages (from roboflow) (1.26.15)\n",
      "Requirement already satisfied: cycler==0.10.0 in c:\\users\\user\\anaconda3\\envs\\yolov5\\lib\\site-packages (from roboflow) (0.10.0)\n",
      "Requirement already satisfied: opencv-python-headless==4.8.0.74 in c:\\users\\user\\anaconda3\\envs\\yolov5\\lib\\site-packages (from roboflow) (4.8.0.74)\n",
      "Requirement already satisfied: PyYAML>=5.3.1 in c:\\users\\user\\anaconda3\\envs\\yolov5\\lib\\site-packages (from roboflow) (6.0)\n",
      "Requirement already satisfied: pyparsing==2.4.7 in c:\\users\\user\\anaconda3\\envs\\yolov5\\lib\\site-packages (from roboflow) (2.4.7)\n",
      "Requirement already satisfied: kiwisolver>=1.3.1 in c:\\users\\user\\anaconda3\\envs\\yolov5\\lib\\site-packages (from roboflow) (1.4.4)\n",
      "Requirement already satisfied: chardet==4.0.0 in c:\\users\\user\\anaconda3\\envs\\yolov5\\lib\\site-packages (from roboflow) (4.0.0)\n",
      "Requirement already satisfied: six in c:\\users\\user\\anaconda3\\envs\\yolov5\\lib\\site-packages (from roboflow) (1.16.0)\n",
      "Requirement already satisfied: matplotlib in c:\\users\\user\\anaconda3\\envs\\yolov5\\lib\\site-packages (from roboflow) (3.5.3)\n",
      "Requirement already satisfied: certifi==2022.12.7 in c:\\users\\user\\anaconda3\\envs\\yolov5\\lib\\site-packages (from roboflow) (2022.12.7)\n",
      "Requirement already satisfied: tqdm>=4.41.0 in c:\\users\\user\\anaconda3\\envs\\yolov5\\lib\\site-packages (from roboflow) (4.65.0)\n",
      "Requirement already satisfied: requests-toolbelt in c:\\users\\user\\anaconda3\\envs\\yolov5\\lib\\site-packages (from roboflow) (1.0.0)\n",
      "Requirement already satisfied: Pillow>=7.1.2 in c:\\users\\user\\anaconda3\\envs\\yolov5\\lib\\site-packages (from roboflow) (9.5.0)\n",
      "Requirement already satisfied: python-dateutil in c:\\users\\user\\anaconda3\\envs\\yolov5\\lib\\site-packages (from roboflow) (2.8.2)\n",
      "Requirement already satisfied: idna==2.10 in c:\\users\\user\\anaconda3\\envs\\yolov5\\lib\\site-packages (from roboflow) (2.10)\n",
      "Requirement already satisfied: python-dotenv in c:\\users\\user\\anaconda3\\envs\\yolov5\\lib\\site-packages (from roboflow) (0.21.1)\n",
      "Requirement already satisfied: typing-extensions in c:\\users\\user\\anaconda3\\envs\\yolov5\\lib\\site-packages (from kiwisolver>=1.3.1->roboflow) (4.5.0)\n",
      "Requirement already satisfied: colorama in c:\\users\\user\\anaconda3\\envs\\yolov5\\lib\\site-packages (from tqdm>=4.41.0->roboflow) (0.4.6)\n",
      "Requirement already satisfied: fonttools>=4.22.0 in c:\\users\\user\\anaconda3\\envs\\yolov5\\lib\\site-packages (from matplotlib->roboflow) (4.38.0)\n",
      "Requirement already satisfied: packaging>=20.0 in c:\\users\\user\\anaconda3\\envs\\yolov5\\lib\\site-packages (from matplotlib->roboflow) (23.0)\n",
      "Requirement already satisfied: charset-normalizer<4,>=2 in c:\\users\\user\\anaconda3\\envs\\yolov5\\lib\\site-packages (from requests->roboflow) (3.1.0)\n",
      "Requirement already satisfied: opencv-python in c:\\users\\user\\anaconda3\\envs\\yolov5\\lib\\site-packages (from supervision->roboflow) (4.7.0.72)\n",
      "loading Roboflow workspace...\n",
      "loading Roboflow project...\n"
     ]
    },
    {
     "name": "stderr",
     "output_type": "stream",
     "text": [
      "Downloading Dataset Version Zip in IGauze-CZ-2 to yolov7pytorch:: 100%|███| 1633416/1633416 [01:16<00:00, 21241.58it/s]"
     ]
    },
    {
     "name": "stdout",
     "output_type": "stream",
     "text": [
      "\n"
     ]
    },
    {
     "name": "stderr",
     "output_type": "stream",
     "text": [
      "\n",
      "Extracting Dataset Version Zip to IGauze-CZ-2 in yolov7pytorch:: 100%|█████████| 53046/53046 [00:40<00:00, 1313.74it/s]\n"
     ]
    }
   ],
   "source": [
    "!pip install roboflow\n",
    "\n",
    "from roboflow import Roboflow\n",
    "rf = Roboflow(api_key=\"kzpFm9ERetvWrW3W48rC\")\n",
    "project = rf.workspace(\"ntu-edf5y\").project(\"igauze-cz\")\n",
    "dataset = project.version(2).download(\"yolov7\")\n"
   ]
  },
  {
   "cell_type": "code",
   "execution_count": null,
   "id": "38c73bcd",
   "metadata": {},
   "outputs": [],
   "source": []
  }
 ],
 "metadata": {
  "kernelspec": {
   "display_name": "Python 3 (ipykernel)",
   "language": "python",
   "name": "python3"
  },
  "language_info": {
   "codemirror_mode": {
    "name": "ipython",
    "version": 3
   },
   "file_extension": ".py",
   "mimetype": "text/x-python",
   "name": "python",
   "nbconvert_exporter": "python",
   "pygments_lexer": "ipython3",
   "version": "3.7.16"
  }
 },
 "nbformat": 4,
 "nbformat_minor": 5
}
