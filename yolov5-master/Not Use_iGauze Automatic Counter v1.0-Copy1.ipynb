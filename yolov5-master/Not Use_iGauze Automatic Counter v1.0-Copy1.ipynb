{
 "cells": [
  {
   "cell_type": "markdown",
   "id": "3a3dd4f1",
   "metadata": {},
   "source": [
    "# 1. Install Dependencies"
   ]
  },
  {
   "cell_type": "markdown",
   "id": "f7d5f410",
   "metadata": {},
   "source": [
    "pip install torch from https://pytorch.org/ based on your specs"
   ]
  },
  {
   "cell_type": "code",
   "execution_count": 1,
   "id": "acc1c563",
   "metadata": {},
   "outputs": [
    {
     "name": "stderr",
     "output_type": "stream",
     "text": [
      "fatal: destination path 'yolov5' already exists and is not an empty directory.\n"
     ]
    }
   ],
   "source": [
    "#install YOLOv5\n",
    "!git clone https://github.com/ultralytics/yolov5"
   ]
  },
  {
   "cell_type": "code",
   "execution_count": 2,
   "id": "4183e900",
   "metadata": {},
   "outputs": [
    {
     "name": "stdout",
     "output_type": "stream",
     "text": [
      "Requirement already satisfied: gitpython>=3.1.30 in c:\\users\\user\\anaconda3\\envs\\yolov5\\lib\\site-packages (from -r requirements.txt (line 5)) (3.1.31)\n",
      "Requirement already satisfied: matplotlib>=3.3 in c:\\users\\user\\anaconda3\\envs\\yolov5\\lib\\site-packages (from -r requirements.txt (line 6)) (3.5.3)\n",
      "Requirement already satisfied: numpy>=1.18.5 in c:\\users\\user\\anaconda3\\envs\\yolov5\\lib\\site-packages (from -r requirements.txt (line 7)) (1.21.6)\n",
      "Requirement already satisfied: opencv-python>=4.1.1 in c:\\users\\user\\anaconda3\\envs\\yolov5\\lib\\site-packages (from -r requirements.txt (line 8)) (4.7.0.72)\n",
      "Requirement already satisfied: Pillow>=7.1.2 in c:\\users\\user\\anaconda3\\envs\\yolov5\\lib\\site-packages (from -r requirements.txt (line 9)) (9.5.0)\n",
      "Requirement already satisfied: psutil in c:\\users\\user\\anaconda3\\envs\\yolov5\\lib\\site-packages (from -r requirements.txt (line 10)) (5.9.4)\n",
      "Requirement already satisfied: PyYAML>=5.3.1 in c:\\users\\user\\anaconda3\\envs\\yolov5\\lib\\site-packages (from -r requirements.txt (line 11)) (6.0)\n",
      "Requirement already satisfied: requests>=2.23.0 in c:\\users\\user\\anaconda3\\envs\\yolov5\\lib\\site-packages (from -r requirements.txt (line 12)) (2.28.2)\n",
      "Requirement already satisfied: scipy>=1.4.1 in c:\\users\\user\\anaconda3\\envs\\yolov5\\lib\\site-packages (from -r requirements.txt (line 13)) (1.7.3)\n",
      "Requirement already satisfied: thop>=0.1.1 in c:\\users\\user\\anaconda3\\envs\\yolov5\\lib\\site-packages (from -r requirements.txt (line 14)) (0.1.1.post2209072238)\n",
      "Requirement already satisfied: torch>=1.7.0 in c:\\users\\user\\anaconda3\\envs\\yolov5\\lib\\site-packages (from -r requirements.txt (line 15)) (1.7.1+cu110)\n",
      "Requirement already satisfied: torchvision>=0.8.1 in c:\\users\\user\\anaconda3\\envs\\yolov5\\lib\\site-packages (from -r requirements.txt (line 16)) (0.8.2+cu110)\n",
      "Requirement already satisfied: tqdm>=4.64.0 in c:\\users\\user\\anaconda3\\envs\\yolov5\\lib\\site-packages (from -r requirements.txt (line 17)) (4.65.0)\n",
      "Requirement already satisfied: ultralytics>=8.0.100 in c:\\users\\user\\anaconda3\\envs\\yolov5\\lib\\site-packages (from -r requirements.txt (line 18)) (8.0.145)\n",
      "Requirement already satisfied: pandas>=1.1.4 in c:\\users\\user\\anaconda3\\envs\\yolov5\\lib\\site-packages (from -r requirements.txt (line 27)) (1.3.5)\n",
      "Requirement already satisfied: seaborn>=0.11.0 in c:\\users\\user\\anaconda3\\envs\\yolov5\\lib\\site-packages (from -r requirements.txt (line 28)) (0.12.2)\n",
      "Requirement already satisfied: setuptools>=65.5.1 in c:\\users\\user\\anaconda3\\envs\\yolov5\\lib\\site-packages (from -r requirements.txt (line 42)) (65.6.3)\n",
      "Requirement already satisfied: gitdb<5,>=4.0.1 in c:\\users\\user\\anaconda3\\envs\\yolov5\\lib\\site-packages (from gitpython>=3.1.30->-r requirements.txt (line 5)) (4.0.10)\n",
      "Requirement already satisfied: typing-extensions>=3.7.4.3 in c:\\users\\user\\anaconda3\\envs\\yolov5\\lib\\site-packages (from gitpython>=3.1.30->-r requirements.txt (line 5)) (4.5.0)\n",
      "Requirement already satisfied: kiwisolver>=1.0.1 in c:\\users\\user\\anaconda3\\envs\\yolov5\\lib\\site-packages (from matplotlib>=3.3->-r requirements.txt (line 6)) (1.4.4)\n",
      "Requirement already satisfied: python-dateutil>=2.7 in c:\\users\\user\\anaconda3\\envs\\yolov5\\lib\\site-packages (from matplotlib>=3.3->-r requirements.txt (line 6)) (2.8.2)\n",
      "Requirement already satisfied: pyparsing>=2.2.1 in c:\\users\\user\\anaconda3\\envs\\yolov5\\lib\\site-packages (from matplotlib>=3.3->-r requirements.txt (line 6)) (3.0.9)\n",
      "Requirement already satisfied: fonttools>=4.22.0 in c:\\users\\user\\anaconda3\\envs\\yolov5\\lib\\site-packages (from matplotlib>=3.3->-r requirements.txt (line 6)) (4.38.0)\n",
      "Requirement already satisfied: packaging>=20.0 in c:\\users\\user\\anaconda3\\envs\\yolov5\\lib\\site-packages (from matplotlib>=3.3->-r requirements.txt (line 6)) (23.0)\n",
      "Requirement already satisfied: cycler>=0.10 in c:\\users\\user\\anaconda3\\envs\\yolov5\\lib\\site-packages (from matplotlib>=3.3->-r requirements.txt (line 6)) (0.11.0)\n",
      "Requirement already satisfied: certifi>=2017.4.17 in c:\\users\\user\\anaconda3\\envs\\yolov5\\lib\\site-packages (from requests>=2.23.0->-r requirements.txt (line 12)) (2022.12.7)\n",
      "Requirement already satisfied: charset-normalizer<4,>=2 in c:\\users\\user\\anaconda3\\envs\\yolov5\\lib\\site-packages (from requests>=2.23.0->-r requirements.txt (line 12)) (3.1.0)\n",
      "Requirement already satisfied: idna<4,>=2.5 in c:\\users\\user\\anaconda3\\envs\\yolov5\\lib\\site-packages (from requests>=2.23.0->-r requirements.txt (line 12)) (3.4)\n",
      "Requirement already satisfied: urllib3<1.27,>=1.21.1 in c:\\users\\user\\anaconda3\\envs\\yolov5\\lib\\site-packages (from requests>=2.23.0->-r requirements.txt (line 12)) (1.26.15)\n",
      "Requirement already satisfied: colorama in c:\\users\\user\\anaconda3\\envs\\yolov5\\lib\\site-packages (from tqdm>=4.64.0->-r requirements.txt (line 17)) (0.4.6)\n",
      "Requirement already satisfied: py-cpuinfo in c:\\users\\user\\anaconda3\\envs\\yolov5\\lib\\site-packages (from ultralytics>=8.0.100->-r requirements.txt (line 18)) (9.0.0)\n",
      "Requirement already satisfied: pytz>=2017.3 in c:\\users\\user\\anaconda3\\envs\\yolov5\\lib\\site-packages (from pandas>=1.1.4->-r requirements.txt (line 27)) (2023.3)\n",
      "Requirement already satisfied: smmap<6,>=3.0.1 in c:\\users\\user\\anaconda3\\envs\\yolov5\\lib\\site-packages (from gitdb<5,>=4.0.1->gitpython>=3.1.30->-r requirements.txt (line 5)) (5.0.0)\n",
      "Requirement already satisfied: six>=1.5 in c:\\users\\user\\anaconda3\\envs\\yolov5\\lib\\site-packages (from python-dateutil>=2.7->matplotlib>=3.3->-r requirements.txt (line 6)) (1.16.0)\n"
     ]
    }
   ],
   "source": [
    "!cd yolov5 & pip install -r requirements.txt"
   ]
  },
  {
   "cell_type": "markdown",
   "id": "3f1f85ab",
   "metadata": {},
   "source": [
    "# 2. Realtime Gauze Detection w/ 2 Webcams"
   ]
  },
  {
   "cell_type": "code",
   "execution_count": 2,
   "id": "a15dd196",
   "metadata": {},
   "outputs": [
    {
     "name": "stderr",
     "output_type": "stream",
     "text": [
      "Downloading: \"https://github.com/ultralytics/yolov5/archive/master.zip\" to C:\\Users\\user/.cache\\torch\\hub\\master.zip\n",
      "YOLOv5  2023-8-10 Python-3.7.16 torch-1.7.1+cu110 CUDA:0 (NVIDIA GeForce RTX 2060, 6144MiB)\n",
      "\n",
      "Fusing layers... \n",
      "Model summary: 267 layers, 46108278 parameters, 0 gradients, 107.6 GFLOPs\n",
      "Adding AutoShape... \n",
      "Downloading: \"https://github.com/ultralytics/yolov5/archive/master.zip\" to C:\\Users\\user/.cache\\torch\\hub\\master.zip\n",
      "YOLOv5  2023-8-10 Python-3.7.16 torch-1.7.1+cu110 CUDA:0 (NVIDIA GeForce RTX 2060, 6144MiB)\n",
      "\n",
      "Fusing layers... \n",
      "YOLOv5x6 summary: 574 layers, 140730220 parameters, 0 gradients, 209.6 GFLOPs\n",
      "Adding AutoShape... \n"
     ]
    }
   ],
   "source": [
    "import torch\n",
    "from matplotlib import pyplot as plt\n",
    "import numpy as np\n",
    "import cv2\n",
    "import time\n",
    "\n",
    "# YOLOv5\n",
    "model = torch.hub.load('ultralytics/yolov5', 'custom', path='../yolov5-master/202318JUL.pt', force_reload=True)\n",
    "model2 = torch.hub.load('ultralytics/yolov5', 'yolov5x6', force_reload=True)\n",
    "model.to(\"cuda\")\n",
    "model2.to(\"cuda\")\n",
    "\n",
    "model.conf = 0.50\n",
    "#model.max_det = 20\n",
    "model.classes = [0]\n",
    "model2.conf = 0.25\n",
    "#model2.max_det = 20\n",
    "model2.classes = [0]\n",
    "\n",
    "onscreenIn, onscreenOut, countIn, countOut, frameCountIn, frameCountOut, startTime, endTime, countPlay = 0, 0, 0, 0, 0, 0, 0, 0, 0\n",
    "condition = 7\n",
    "cap1 = cv2.VideoCapture(0)\n",
    "cap2 = cv2.VideoCapture(1)\n",
    "ret, frame1 = cap1.read()\n",
    "ret, frame2 = cap2.read()\n",
    "\n",
    "pic1=frame1.shape[1]\n",
    "pic2=frame2.shape[1]\n",
    "start_time = cv2.getTickCount()\n",
    "\n",
    "\n",
    "while True:\n",
    "    ret, frame1 = cap1.read()\n",
    "    ret, frame2 = cap2.read()\n",
    "    \n",
    "    \n",
    "    # Make detections\n",
    "    pic = np.hstack((frame1, frame2))\n",
    "    pic_gpu=torch.tensor(pic,device=\"cuda\")\n",
    "    results = model(pic)\n",
    "    results2 = model2(pic)\n",
    "\n",
    "    if len(results.xyxy) > 0:\n",
    "        detections = results.xyxy[0]\n",
    "        gauze_indices = torch.nonzero(detections[:, 5].long() == model.classes[0]).squeeze()\n",
    "        xmax_indices = detections[:, 2]\n",
    "\n",
    "        a = (xmax_indices[gauze_indices] <= pic1).sum().item()\n",
    "        b = (xmax_indices[gauze_indices] > pic1).sum().item()\n",
    "\n",
    "    if len(results2.xyxy) > 0:\n",
    "        detections2 = results2.xyxy[0]\n",
    "        human_indices = torch.nonzero(detections2[:, 5].long() == 0).squeeze()\n",
    "        xmax_indices2 = detections2[:, 2]\n",
    "\n",
    "        c = (xmax_indices2[human_indices] <= pic1).sum().item()\n",
    "        d = (xmax_indices2[human_indices] > pic1).sum().item()\n",
    "    \n",
    "    image = np.squeeze(results.render())\n",
    "    borderedFrame = cv2.copyMakeBorder(image, 0, 350, 640 - pic1, 640 - pic2, cv2.BORDER_CONSTANT,\n",
    "                                       value=[0, 0, 0])\n",
    "\n",
    "    if c == 0:\n",
    "        tempcount1 = a\n",
    "        if tempcount1 != onscreenIn:\n",
    "            frameCountIn += 1\n",
    "            if frameCountIn == condition:\n",
    "                if tempcount1 > onscreenIn:\n",
    "                    countIn += tempcount1 - onscreenIn\n",
    "                onscreenIn = tempcount1\n",
    "        else:\n",
    "            frameCountIn = 0\n",
    "        cv2.putText(borderedFrame, 'On Screen =' + str(onscreenIn), (300, 30), cv2.FONT_HERSHEY_SIMPLEX, 1,\n",
    "                    (255, 255, 255), 2, cv2.LINE_AA)\n",
    "        cv2.putText(borderedFrame, 'Total In =' + str(countIn), (300, 55), cv2.FONT_HERSHEY_SIMPLEX, 1, (255, 255, 255),\n",
    "                    2, cv2.LINE_AA)\n",
    "    else:\n",
    "        cv2.putText(borderedFrame, 'On Screen =' + 'Paused', (300, 30), cv2.FONT_HERSHEY_SIMPLEX, 1, (255, 255, 255), 2,\n",
    "                    cv2.LINE_AA)\n",
    "        cv2.putText(borderedFrame, 'Total In =' + 'Paused', (300, 55), cv2.FONT_HERSHEY_SIMPLEX, 1, (255, 255, 255), 2,\n",
    "                    cv2.LINE_AA)\n",
    "        cv2.putText(borderedFrame, 'Human Detected', (200, 400), cv2.FONT_HERSHEY_SIMPLEX, 1, (255, 255, 255), 2,\n",
    "                    cv2.LINE_AA)\n",
    "\n",
    "    if d == 0:\n",
    "        tempcount2 = b\n",
    "        if tempcount2 != onscreenOut:\n",
    "            frameCountOut += 1\n",
    "            if frameCountOut == condition:\n",
    "                if tempcount2 > onscreenOut:\n",
    "                    countOut += tempcount2 - onscreenOut\n",
    "                onscreenOut = tempcount2\n",
    "        else:\n",
    "            frameCountOut = 0\n",
    "        cv2.putText(borderedFrame, 'On Screen =' + str(onscreenOut), (940, 30), cv2.FONT_HERSHEY_SIMPLEX, 1, (255, 255, 255), 2,\n",
    "                    cv2.LINE_AA)\n",
    "        cv2.putText(borderedFrame, 'Total Out =' + str(countOut), (940, 55), cv2.FONT_HERSHEY_SIMPLEX, 1, (255, 255, 255), 2,\n",
    "                    cv2.LINE_AA)\n",
    "    else:\n",
    "        cv2.putText(borderedFrame, 'On Screen =' + 'Paused', (940, 30), cv2.FONT_HERSHEY_SIMPLEX, 1, (255, 255, 255), 2, cv2.LINE_AA)\n",
    "        cv2.putText(borderedFrame, 'Total Out =' + 'Paused', (940, 55), cv2.FONT_HERSHEY_SIMPLEX, 1, (255, 255, 255), 2, cv2.LINE_AA)\n",
    "        cv2.putText(borderedFrame, 'Human Detected', (840, 400), cv2.FONT_HERSHEY_SIMPLEX, 1, (255, 255, 255), 2, cv2.LINE_AA)\n",
    "\n",
    "    # FPS Counter\n",
    "    end_time = cv2.getTickCount()\n",
    "    elapsed_time = (end_time - start_time) / cv2.getTickFrequency()\n",
    "    fps = 1 / elapsed_time\n",
    "    start_time = end_time\n",
    "    cv2.putText(borderedFrame, \"FPS =\" + str(round(fps, 1)), (540, 520), cv2.FONT_HERSHEY_SIMPLEX, 1, (255, 255, 255),\n",
    "                2, cv2.LINE_AA)\n",
    "\n",
    "    # Gauze In-Play Counter\n",
    "    countPlay = countIn - onscreenIn - countOut\n",
    "    #cv2.putText(borderedFrame, 'In Play =' + str(countPlay), (360, 650), cv2.FONT_HERSHEY_SIMPLEX, 4, (0, 0, 255), 4,\n",
    "    #            cv2.LINE_AA)\n",
    "\n",
    "    cv2.imshow('Gauze', borderedFrame)\n",
    "\n",
    "    if cv2.waitKey(10) & 0xFF == ord('q'):\n",
    "        break\n",
    "\n",
    "cap1.release()\n",
    "cap2.release()\n",
    "cv2.destroyAllWindows()"
   ]
  },
  {
   "cell_type": "code",
   "execution_count": null,
   "id": "ab779219",
   "metadata": {},
   "outputs": [],
   "source": []
  }
 ],
 "metadata": {
  "kernelspec": {
   "display_name": "Python 3 (ipykernel)",
   "language": "python",
   "name": "python3"
  },
  "language_info": {
   "codemirror_mode": {
    "name": "ipython",
    "version": 3
   },
   "file_extension": ".py",
   "mimetype": "text/x-python",
   "name": "python",
   "nbconvert_exporter": "python",
   "pygments_lexer": "ipython3",
   "version": "3.7.16"
  }
 },
 "nbformat": 4,
 "nbformat_minor": 5
}
