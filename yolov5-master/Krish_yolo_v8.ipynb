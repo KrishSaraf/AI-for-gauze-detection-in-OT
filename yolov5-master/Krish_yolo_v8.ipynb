{
 "cells": [
  {
   "cell_type": "code",
   "execution_count": 1,
   "metadata": {},
   "outputs": [
    {
     "name": "stdout",
     "output_type": "stream",
     "text": [
      "Requirement already satisfied: ipywidgets in c:\\users\\user\\anaconda3\\envs\\yolov5\\lib\\site-packages (8.1.1)\n",
      "Requirement already satisfied: ipython>=6.1.0 in c:\\users\\user\\anaconda3\\envs\\yolov5\\lib\\site-packages (from ipywidgets) (7.31.1)\n",
      "Requirement already satisfied: comm>=0.1.3 in c:\\users\\user\\anaconda3\\envs\\yolov5\\lib\\site-packages (from ipywidgets) (0.1.4)\n",
      "Requirement already satisfied: jupyterlab-widgets~=3.0.9 in c:\\users\\user\\anaconda3\\envs\\yolov5\\lib\\site-packages (from ipywidgets) (3.0.9)\n",
      "Requirement already satisfied: widgetsnbextension~=4.0.9 in c:\\users\\user\\anaconda3\\envs\\yolov5\\lib\\site-packages (from ipywidgets) (4.0.9)\n",
      "Requirement already satisfied: traitlets>=4.3.1 in c:\\users\\user\\anaconda3\\envs\\yolov5\\lib\\site-packages (from ipywidgets) (5.7.1)\n",
      "Requirement already satisfied: setuptools>=18.5 in c:\\users\\user\\anaconda3\\envs\\yolov5\\lib\\site-packages (from ipython>=6.1.0->ipywidgets) (65.6.3)\n",
      "Requirement already satisfied: decorator in c:\\users\\user\\anaconda3\\envs\\yolov5\\lib\\site-packages (from ipython>=6.1.0->ipywidgets) (5.1.1)\n",
      "Requirement already satisfied: colorama in c:\\users\\user\\anaconda3\\envs\\yolov5\\lib\\site-packages (from ipython>=6.1.0->ipywidgets) (0.4.6)\n",
      "Requirement already satisfied: backcall in c:\\users\\user\\anaconda3\\envs\\yolov5\\lib\\site-packages (from ipython>=6.1.0->ipywidgets) (0.2.0)\n",
      "Requirement already satisfied: matplotlib-inline in c:\\users\\user\\anaconda3\\envs\\yolov5\\lib\\site-packages (from ipython>=6.1.0->ipywidgets) (0.1.6)\n",
      "Requirement already satisfied: jedi>=0.16 in c:\\users\\user\\anaconda3\\envs\\yolov5\\lib\\site-packages (from ipython>=6.1.0->ipywidgets) (0.18.1)\n",
      "Requirement already satisfied: pygments in c:\\users\\user\\anaconda3\\envs\\yolov5\\lib\\site-packages (from ipython>=6.1.0->ipywidgets) (2.11.2)\n",
      "Requirement already satisfied: prompt-toolkit!=3.0.0,!=3.0.1,<3.1.0,>=2.0.0 in c:\\users\\user\\anaconda3\\envs\\yolov5\\lib\\site-packages (from ipython>=6.1.0->ipywidgets) (3.0.36)\n",
      "Requirement already satisfied: pickleshare in c:\\users\\user\\anaconda3\\envs\\yolov5\\lib\\site-packages (from ipython>=6.1.0->ipywidgets) (0.7.5)\n",
      "Requirement already satisfied: parso<0.9.0,>=0.8.0 in c:\\users\\user\\anaconda3\\envs\\yolov5\\lib\\site-packages (from jedi>=0.16->ipython>=6.1.0->ipywidgets) (0.8.3)\n",
      "Requirement already satisfied: wcwidth in c:\\users\\user\\anaconda3\\envs\\yolov5\\lib\\site-packages (from prompt-toolkit!=3.0.0,!=3.0.1,<3.1.0,>=2.0.0->ipython>=6.1.0->ipywidgets) (0.2.5)\n",
      "Note: you may need to restart the kernel to use updated packages.\n"
     ]
    }
   ],
   "source": [
    "pip install ipywidgets"
   ]
  },
  {
   "cell_type": "code",
   "execution_count": 2,
   "metadata": {},
   "outputs": [
    {
     "name": "stdout",
     "output_type": "stream",
     "text": [
      "Requirement already satisfied: roboflow in c:\\users\\user\\anaconda3\\envs\\yolov5\\lib\\site-packages (1.1.6)\n",
      "Requirement already satisfied: certifi==2022.12.7 in c:\\users\\user\\anaconda3\\envs\\yolov5\\lib\\site-packages (from roboflow) (2022.12.7)\n",
      "Requirement already satisfied: matplotlib in c:\\users\\user\\anaconda3\\envs\\yolov5\\lib\\site-packages (from roboflow) (3.5.3)\n",
      "Requirement already satisfied: supervision in c:\\users\\user\\anaconda3\\envs\\yolov5\\lib\\site-packages (from roboflow) (0.11.1)\n",
      "Requirement already satisfied: PyYAML>=5.3.1 in c:\\users\\user\\anaconda3\\envs\\yolov5\\lib\\site-packages (from roboflow) (6.0)\n",
      "Requirement already satisfied: urllib3>=1.26.6 in c:\\users\\user\\anaconda3\\envs\\yolov5\\lib\\site-packages (from roboflow) (1.26.15)\n",
      "Requirement already satisfied: tqdm>=4.41.0 in c:\\users\\user\\anaconda3\\envs\\yolov5\\lib\\site-packages (from roboflow) (4.65.0)\n",
      "Requirement already satisfied: requests-toolbelt in c:\\users\\user\\anaconda3\\envs\\yolov5\\lib\\site-packages (from roboflow) (1.0.0)\n",
      "Requirement already satisfied: kiwisolver>=1.3.1 in c:\\users\\user\\anaconda3\\envs\\yolov5\\lib\\site-packages (from roboflow) (1.4.4)\n",
      "Requirement already satisfied: python-dateutil in c:\\users\\user\\anaconda3\\envs\\yolov5\\lib\\site-packages (from roboflow) (2.8.2)\n",
      "Requirement already satisfied: chardet==4.0.0 in c:\\users\\user\\anaconda3\\envs\\yolov5\\lib\\site-packages (from roboflow) (4.0.0)\n",
      "Requirement already satisfied: six in c:\\users\\user\\anaconda3\\envs\\yolov5\\lib\\site-packages (from roboflow) (1.16.0)\n",
      "Requirement already satisfied: idna==2.10 in c:\\users\\user\\anaconda3\\envs\\yolov5\\lib\\site-packages (from roboflow) (2.10)\n",
      "Requirement already satisfied: numpy>=1.18.5 in c:\\users\\user\\anaconda3\\envs\\yolov5\\lib\\site-packages (from roboflow) (1.21.6)\n",
      "Requirement already satisfied: opencv-python-headless==4.8.0.74 in c:\\users\\user\\anaconda3\\envs\\yolov5\\lib\\site-packages (from roboflow) (4.8.0.74)\n",
      "Requirement already satisfied: python-dotenv in c:\\users\\user\\anaconda3\\envs\\yolov5\\lib\\site-packages (from roboflow) (0.21.1)\n",
      "Requirement already satisfied: Pillow>=7.1.2 in c:\\users\\user\\anaconda3\\envs\\yolov5\\lib\\site-packages (from roboflow) (9.5.0)\n",
      "Requirement already satisfied: cycler==0.10.0 in c:\\users\\user\\anaconda3\\envs\\yolov5\\lib\\site-packages (from roboflow) (0.10.0)\n",
      "Requirement already satisfied: pyparsing==2.4.7 in c:\\users\\user\\anaconda3\\envs\\yolov5\\lib\\site-packages (from roboflow) (2.4.7)\n",
      "Requirement already satisfied: requests in c:\\users\\user\\anaconda3\\envs\\yolov5\\lib\\site-packages (from roboflow) (2.28.2)\n",
      "Requirement already satisfied: typing-extensions in c:\\users\\user\\anaconda3\\envs\\yolov5\\lib\\site-packages (from kiwisolver>=1.3.1->roboflow) (4.5.0)\n",
      "Requirement already satisfied: colorama in c:\\users\\user\\anaconda3\\envs\\yolov5\\lib\\site-packages (from tqdm>=4.41.0->roboflow) (0.4.6)\n",
      "Requirement already satisfied: packaging>=20.0 in c:\\users\\user\\anaconda3\\envs\\yolov5\\lib\\site-packages (from matplotlib->roboflow) (23.0)\n",
      "Requirement already satisfied: fonttools>=4.22.0 in c:\\users\\user\\anaconda3\\envs\\yolov5\\lib\\site-packages (from matplotlib->roboflow) (4.38.0)\n",
      "Requirement already satisfied: charset-normalizer<4,>=2 in c:\\users\\user\\anaconda3\\envs\\yolov5\\lib\\site-packages (from requests->roboflow) (3.1.0)\n",
      "Requirement already satisfied: opencv-python in c:\\users\\user\\anaconda3\\envs\\yolov5\\lib\\site-packages (from supervision->roboflow) (4.7.0.72)\n",
      "loading Roboflow workspace...\n",
      "loading Roboflow project...\n"
     ]
    },
    {
     "name": "stderr",
     "output_type": "stream",
     "text": [
      "Downloading Dataset Version Zip in IGauze-CZ-2 to yolov8:: 100%|██████████| 1625077/1625077 [01:16<00:00, 21238.69it/s]"
     ]
    },
    {
     "name": "stdout",
     "output_type": "stream",
     "text": [
      "\n"
     ]
    },
    {
     "name": "stderr",
     "output_type": "stream",
     "text": [
      "\n",
      "Extracting Dataset Version Zip to IGauze-CZ-2 in yolov8:: 100%|████████████████| 49730/49730 [00:25<00:00, 1982.78it/s]\n"
     ]
    }
   ],
   "source": [
    "!pip install roboflow\n",
    "\n",
    "from roboflow import Roboflow\n",
    "rf = Roboflow(api_key=\"kzpFm9ERetvWrW3W48rC\")\n",
    "project = rf.workspace(\"ntu-edf5y\").project(\"igauze-cz\")\n",
    "dataset = project.version(2).download(\"yolov8\")\n"
   ]
  },
  {
   "cell_type": "code",
   "execution_count": 5,
   "metadata": {},
   "outputs": [
    {
     "name": "stdout",
     "output_type": "stream",
     "text": [
      "Requirement already satisfied: ultralytics in c:\\users\\user\\anaconda3\\envs\\yolov5\\lib\\site-packages (8.0.134)\n",
      "Collecting ultralytics\n",
      "  Downloading ultralytics-8.0.151-py3-none-any.whl (616 kB)\n",
      "     ------------------------------------- 616.7/616.7 kB 12.9 MB/s eta 0:00:00\n",
      "Requirement already satisfied: opencv-python>=4.6.0 in c:\\users\\user\\anaconda3\\envs\\yolov5\\lib\\site-packages (from ultralytics) (4.7.0.72)\n",
      "Requirement already satisfied: torch>=1.7.0 in c:\\users\\user\\anaconda3\\envs\\yolov5\\lib\\site-packages (from ultralytics) (1.7.1+cu110)\n",
      "Requirement already satisfied: py-cpuinfo in c:\\users\\user\\anaconda3\\envs\\yolov5\\lib\\site-packages (from ultralytics) (9.0.0)\n",
      "Requirement already satisfied: seaborn>=0.11.0 in c:\\users\\user\\anaconda3\\envs\\yolov5\\lib\\site-packages (from ultralytics) (0.12.2)\n",
      "Requirement already satisfied: pillow>=7.1.2 in c:\\users\\user\\anaconda3\\envs\\yolov5\\lib\\site-packages (from ultralytics) (9.5.0)\n",
      "  Using cached ultralytics-8.0.150-py3-none-any.whl (614 kB)\n",
      "  Using cached ultralytics-8.0.149-py3-none-any.whl (614 kB)\n",
      "  Using cached ultralytics-8.0.148-py3-none-any.whl (606 kB)\n",
      "  Using cached ultralytics-8.0.147-py3-none-any.whl (606 kB)\n",
      "  Using cached ultralytics-8.0.146-py3-none-any.whl (605 kB)\n",
      "  Using cached ultralytics-8.0.145-py3-none-any.whl (605 kB)\n",
      "Requirement already satisfied: torchvision>=0.8.1 in c:\\users\\user\\anaconda3\\envs\\yolov5\\lib\\site-packages (from ultralytics) (0.8.2+cu110)\n",
      "Requirement already satisfied: requests>=2.23.0 in c:\\users\\user\\anaconda3\\envs\\yolov5\\lib\\site-packages (from ultralytics) (2.28.2)\n",
      "Requirement already satisfied: scipy>=1.4.1 in c:\\users\\user\\anaconda3\\envs\\yolov5\\lib\\site-packages (from ultralytics) (1.7.3)\n",
      "Requirement already satisfied: psutil in c:\\users\\user\\anaconda3\\envs\\yolov5\\lib\\site-packages (from ultralytics) (5.9.4)\n",
      "Requirement already satisfied: matplotlib>=3.2.2 in c:\\users\\user\\anaconda3\\envs\\yolov5\\lib\\site-packages (from ultralytics) (3.5.3)\n",
      "Requirement already satisfied: pandas>=1.1.4 in c:\\users\\user\\anaconda3\\envs\\yolov5\\lib\\site-packages (from ultralytics) (1.3.5)\n",
      "Requirement already satisfied: pyyaml>=5.3.1 in c:\\users\\user\\anaconda3\\envs\\yolov5\\lib\\site-packages (from ultralytics) (6.0)\n",
      "Requirement already satisfied: tqdm>=4.64.0 in c:\\users\\user\\anaconda3\\envs\\yolov5\\lib\\site-packages (from ultralytics) (4.65.0)\n",
      "Requirement already satisfied: cycler>=0.10 in c:\\users\\user\\anaconda3\\envs\\yolov5\\lib\\site-packages (from matplotlib>=3.2.2->ultralytics) (0.10.0)\n",
      "Requirement already satisfied: kiwisolver>=1.0.1 in c:\\users\\user\\anaconda3\\envs\\yolov5\\lib\\site-packages (from matplotlib>=3.2.2->ultralytics) (1.4.4)\n",
      "Requirement already satisfied: packaging>=20.0 in c:\\users\\user\\anaconda3\\envs\\yolov5\\lib\\site-packages (from matplotlib>=3.2.2->ultralytics) (23.0)\n",
      "Requirement already satisfied: fonttools>=4.22.0 in c:\\users\\user\\anaconda3\\envs\\yolov5\\lib\\site-packages (from matplotlib>=3.2.2->ultralytics) (4.38.0)\n",
      "Requirement already satisfied: pyparsing>=2.2.1 in c:\\users\\user\\anaconda3\\envs\\yolov5\\lib\\site-packages (from matplotlib>=3.2.2->ultralytics) (2.4.7)\n",
      "Requirement already satisfied: python-dateutil>=2.7 in c:\\users\\user\\anaconda3\\envs\\yolov5\\lib\\site-packages (from matplotlib>=3.2.2->ultralytics) (2.8.2)\n",
      "Requirement already satisfied: numpy>=1.17 in c:\\users\\user\\anaconda3\\envs\\yolov5\\lib\\site-packages (from matplotlib>=3.2.2->ultralytics) (1.21.6)\n",
      "Requirement already satisfied: pytz>=2017.3 in c:\\users\\user\\anaconda3\\envs\\yolov5\\lib\\site-packages (from pandas>=1.1.4->ultralytics) (2023.3)\n",
      "Requirement already satisfied: idna<4,>=2.5 in c:\\users\\user\\anaconda3\\envs\\yolov5\\lib\\site-packages (from requests>=2.23.0->ultralytics) (2.10)\n",
      "Requirement already satisfied: charset-normalizer<4,>=2 in c:\\users\\user\\anaconda3\\envs\\yolov5\\lib\\site-packages (from requests>=2.23.0->ultralytics) (3.1.0)\n",
      "Requirement already satisfied: certifi>=2017.4.17 in c:\\users\\user\\anaconda3\\envs\\yolov5\\lib\\site-packages (from requests>=2.23.0->ultralytics) (2022.12.7)\n",
      "Requirement already satisfied: urllib3<1.27,>=1.21.1 in c:\\users\\user\\anaconda3\\envs\\yolov5\\lib\\site-packages (from requests>=2.23.0->ultralytics) (1.26.15)\n",
      "Requirement already satisfied: typing_extensions in c:\\users\\user\\anaconda3\\envs\\yolov5\\lib\\site-packages (from seaborn>=0.11.0->ultralytics) (4.5.0)\n",
      "Requirement already satisfied: colorama in c:\\users\\user\\anaconda3\\envs\\yolov5\\lib\\site-packages (from tqdm>=4.64.0->ultralytics) (0.4.6)\n",
      "Requirement already satisfied: six in c:\\users\\user\\anaconda3\\envs\\yolov5\\lib\\site-packages (from cycler>=0.10->matplotlib>=3.2.2->ultralytics) (1.16.0)\n",
      "Installing collected packages: ultralytics\n",
      "  Attempting uninstall: ultralytics\n",
      "    Found existing installation: ultralytics 8.0.134\n",
      "    Uninstalling ultralytics-8.0.134:\n",
      "      Successfully uninstalled ultralytics-8.0.134\n",
      "Successfully installed ultralytics-8.0.145\n",
      "Note: you may need to restart the kernel to use updated packages.\n"
     ]
    }
   ],
   "source": [
    "pip install -U ultralytics"
   ]
  },
  {
   "cell_type": "code",
   "execution_count": 4,
   "metadata": {},
   "outputs": [
    {
     "ename": "NameError",
     "evalue": "name 'YOLO' is not defined",
     "output_type": "error",
     "traceback": [
      "\u001b[1;31m---------------------------------------------------------------------------\u001b[0m",
      "\u001b[1;31mNameError\u001b[0m                                 Traceback (most recent call last)",
      "\u001b[1;32m~\\AppData\\Local\\Temp\\ipykernel_4696\\1879246484.py\u001b[0m in \u001b[0;36m<module>\u001b[1;34m\u001b[0m\n\u001b[1;32m----> 1\u001b[1;33m \u001b[0mmodel\u001b[0m \u001b[1;33m=\u001b[0m \u001b[0mYOLO\u001b[0m\u001b[1;33m(\u001b[0m\u001b[1;34m'yolov8n.pt'\u001b[0m\u001b[1;33m)\u001b[0m\u001b[1;33m\u001b[0m\u001b[1;33m\u001b[0m\u001b[0m\n\u001b[0m",
      "\u001b[1;31mNameError\u001b[0m: name 'YOLO' is not defined"
     ]
    }
   ],
   "source": [
    "model = YOLO('yolov8n.pt')"
   ]
  },
  {
   "cell_type": "code",
   "execution_count": null,
   "metadata": {
    "scrolled": true
   },
   "outputs": [],
   "source": [
    "!yolo task=detect mode=train model=yolov8n.pt data=C:/Users/user/yolov5-master/data.yaml epochs=25 imgsz=800 plots=True"
   ]
  },
  {
   "cell_type": "code",
   "execution_count": 6,
   "metadata": {},
   "outputs": [
    {
     "data": {
      "text/plain": [
       "'C:\\\\Users\\\\user\\\\yolov5-master\\\\IGauze-CZ-2'"
      ]
     },
     "execution_count": 6,
     "metadata": {},
     "output_type": "execute_result"
    }
   ],
   "source": [
    "dataset.location"
   ]
  },
  {
   "cell_type": "code",
   "execution_count": 19,
   "metadata": {},
   "outputs": [
    {
     "name": "stdout",
     "output_type": "stream",
     "text": [
      "Requirement already up-to-date: ultralytics in c:\\users\\user\\anaconda3\\lib\\site-packages (8.0.225)\n",
      "Requirement already satisfied, skipping upgrade: requests>=2.23.0 in c:\\users\\user\\anaconda3\\lib\\site-packages (from ultralytics) (2.24.0)\n",
      "Requirement already satisfied, skipping upgrade: matplotlib>=3.3.0 in c:\\users\\user\\anaconda3\\lib\\site-packages (from ultralytics) (3.3.2)\n",
      "Requirement already satisfied, skipping upgrade: torchvision>=0.9.0 in c:\\users\\user\\anaconda3\\lib\\site-packages (from ultralytics) (0.15.1)\n",
      "Requirement already satisfied, skipping upgrade: numpy>=1.22.2 in c:\\users\\user\\anaconda3\\lib\\site-packages (from ultralytics) (1.24.4)\n",
      "Requirement already satisfied, skipping upgrade: opencv-python>=4.6.0 in c:\\users\\user\\anaconda3\\lib\\site-packages (from ultralytics) (4.8.1.78)\n",
      "Requirement already satisfied, skipping upgrade: tqdm>=4.64.0 in c:\\users\\user\\anaconda3\\lib\\site-packages (from ultralytics) (4.65.0)\n",
      "Requirement already satisfied, skipping upgrade: torch>=1.8.0 in c:\\users\\user\\anaconda3\\lib\\site-packages (from ultralytics) (2.0.0)\n",
      "Requirement already satisfied, skipping upgrade: psutil in c:\\users\\user\\anaconda3\\lib\\site-packages (from ultralytics) (5.7.2)\n",
      "Requirement already satisfied, skipping upgrade: pillow>=7.1.2 in c:\\users\\user\\anaconda3\\lib\\site-packages (from ultralytics) (8.0.1)\n",
      "Requirement already satisfied, skipping upgrade: scipy>=1.4.1 in c:\\users\\user\\anaconda3\\lib\\site-packages (from ultralytics) (1.10.1)\n",
      "Requirement already satisfied, skipping upgrade: seaborn>=0.11.0 in c:\\users\\user\\anaconda3\\lib\\site-packages (from ultralytics) (0.11.0)\n",
      "Requirement already satisfied, skipping upgrade: pandas>=1.1.4 in c:\\users\\user\\anaconda3\\lib\\site-packages (from ultralytics) (2.0.0)\n",
      "Requirement already satisfied, skipping upgrade: py-cpuinfo in c:\\users\\user\\anaconda3\\lib\\site-packages (from ultralytics) (9.0.0)\n",
      "Requirement already satisfied, skipping upgrade: thop>=0.1.1 in c:\\users\\user\\anaconda3\\lib\\site-packages (from ultralytics) (0.1.1.post2209072238)\n",
      "Requirement already satisfied, skipping upgrade: pyyaml>=5.3.1 in c:\\users\\user\\anaconda3\\lib\\site-packages (from ultralytics) (5.3.1)\n",
      "Collecting urllib3!=1.25.0,!=1.25.1,<1.26,>=1.21.1\n",
      "  Downloading urllib3-1.25.11-py2.py3-none-any.whl (127 kB)\n",
      "Requirement already satisfied, skipping upgrade: certifi>=2017.4.17 in c:\\users\\user\\anaconda3\\lib\\site-packages (from requests>=2.23.0->ultralytics) (2023.7.22)\n",
      "Collecting chardet<4,>=3.0.2\n",
      "  Downloading chardet-3.0.4-py2.py3-none-any.whl (133 kB)\n",
      "Requirement already satisfied, skipping upgrade: idna<3,>=2.5 in c:\\users\\user\\anaconda3\\lib\\site-packages (from requests>=2.23.0->ultralytics) (2.10)\n",
      "Requirement already satisfied, skipping upgrade: cycler>=0.10 in c:\\users\\user\\anaconda3\\lib\\site-packages (from matplotlib>=3.3.0->ultralytics) (0.10.0)\n",
      "Requirement already satisfied, skipping upgrade: pyparsing!=2.0.4,!=2.1.2,!=2.1.6,>=2.0.3 in c:\\users\\user\\anaconda3\\lib\\site-packages (from matplotlib>=3.3.0->ultralytics) (2.4.7)\n",
      "Requirement already satisfied, skipping upgrade: python-dateutil>=2.1 in c:\\users\\user\\anaconda3\\lib\\site-packages (from matplotlib>=3.3.0->ultralytics) (2.8.2)\n",
      "Requirement already satisfied, skipping upgrade: kiwisolver>=1.0.1 in c:\\users\\user\\anaconda3\\lib\\site-packages (from matplotlib>=3.3.0->ultralytics) (1.4.5)\n",
      "Requirement already satisfied, skipping upgrade: colorama; platform_system == \"Windows\" in c:\\users\\user\\anaconda3\\lib\\site-packages (from tqdm>=4.64.0->ultralytics) (0.4.4)\n",
      "Requirement already satisfied, skipping upgrade: networkx in c:\\users\\user\\anaconda3\\lib\\site-packages (from torch>=1.8.0->ultralytics) (2.5)\n",
      "Requirement already satisfied, skipping upgrade: jinja2 in c:\\users\\user\\anaconda3\\lib\\site-packages (from torch>=1.8.0->ultralytics) (2.11.2)\n",
      "Requirement already satisfied, skipping upgrade: typing-extensions in c:\\users\\user\\anaconda3\\lib\\site-packages (from torch>=1.8.0->ultralytics) (3.7.4.3)\n",
      "Requirement already satisfied, skipping upgrade: filelock in c:\\users\\user\\anaconda3\\lib\\site-packages (from torch>=1.8.0->ultralytics) (3.0.12)\n",
      "Requirement already satisfied, skipping upgrade: sympy in c:\\users\\user\\anaconda3\\lib\\site-packages (from torch>=1.8.0->ultralytics) (1.6.2)\n",
      "Requirement already satisfied, skipping upgrade: pytz>=2020.1 in c:\\users\\user\\anaconda3\\lib\\site-packages (from pandas>=1.1.4->ultralytics) (2020.1)\n",
      "Requirement already satisfied, skipping upgrade: tzdata>=2022.1 in c:\\users\\user\\anaconda3\\lib\\site-packages (from pandas>=1.1.4->ultralytics) (2023.3)\n",
      "Requirement already satisfied, skipping upgrade: six in c:\\users\\user\\anaconda3\\lib\\site-packages (from cycler>=0.10->matplotlib>=3.3.0->ultralytics) (1.15.0)\n",
      "Requirement already satisfied, skipping upgrade: decorator>=4.3.0 in c:\\users\\user\\anaconda3\\lib\\site-packages (from networkx->torch>=1.8.0->ultralytics) (4.4.2)\n",
      "Requirement already satisfied, skipping upgrade: MarkupSafe>=0.23 in c:\\users\\user\\anaconda3\\lib\\site-packages (from jinja2->torch>=1.8.0->ultralytics) (1.1.1)\n",
      "Requirement already satisfied, skipping upgrade: mpmath>=0.19 in c:\\users\\user\\anaconda3\\lib\\site-packages (from sympy->torch>=1.8.0->ultralytics) (1.1.0)\n",
      "Installing collected packages: urllib3, chardet\n",
      "  Attempting uninstall: urllib3\n",
      "    Found existing installation: urllib3 2.1.0\n",
      "    Uninstalling urllib3-2.1.0:\n",
      "      Successfully uninstalled urllib3-2.1.0\n",
      "  Attempting uninstall: chardet\n",
      "    Found existing installation: chardet 4.0.0\n",
      "    Uninstalling chardet-4.0.0:\n",
      "      Successfully uninstalled chardet-4.0.0\n",
      "Successfully installed chardet-3.0.4 urllib3-1.25.11\n"
     ]
    },
    {
     "name": "stderr",
     "output_type": "stream",
     "text": [
      "ERROR: After October 2020 you may experience errors when installing or updating packages. This is because pip will change the way that it resolves dependency conflicts.\n",
      "\n",
      "We recommend you use --use-feature=2020-resolver to test your packages with the new resolver before it becomes the default.\n",
      "\n",
      "spyder 4.1.5 requires pyqt5<5.13; python_version >= \"3\", which is not installed.\n",
      "spyder 4.1.5 requires pyqtwebengine<5.13; python_version >= \"3\", which is not installed.\n",
      "conda 4.14.0 requires ruamel_yaml_conda>=0.11.14, which is not installed.\n",
      "roboflow 1.1.12 requires chardet==4.0.0, but you'll have chardet 3.0.4 which is incompatible.\n",
      "roboflow 1.1.12 requires urllib3>=1.26.6, but you'll have urllib3 1.25.11 which is incompatible.\n"
     ]
    }
   ],
   "source": [
    "!pip list"
   ]
  },
  {
   "cell_type": "code",
   "execution_count": 7,
   "metadata": {},
   "outputs": [
    {
     "name": "stderr",
     "output_type": "stream",
     "text": [
      "ERROR: Ignored the following versions that require a different python version: 8.0.152 Requires-Python >=3.8; 8.0.153 Requires-Python >=3.8; 8.0.154 Requires-Python >=3.8; 8.0.155 Requires-Python >=3.8; 8.0.156 Requires-Python >=3.8; 8.0.157 Requires-Python >=3.8; 8.0.158 Requires-Python >=3.8; 8.0.159 Requires-Python >=3.8; 8.0.160 Requires-Python >=3.8; 8.0.161 Requires-Python >=3.8; 8.0.162 Requires-Python >=3.8; 8.0.163 Requires-Python >=3.8; 8.0.164 Requires-Python >=3.8; 8.0.165 Requires-Python >=3.8; 8.0.166 Requires-Python >=3.8; 8.0.167 Requires-Python >=3.8; 8.0.168 Requires-Python >=3.8; 8.0.169 Requires-Python >=3.8; 8.0.170 Requires-Python >=3.8; 8.0.171 Requires-Python >=3.8; 8.0.172 Requires-Python >=3.8; 8.0.173 Requires-Python >=3.8; 8.0.174 Requires-Python >=3.8; 8.0.175 Requires-Python >=3.8; 8.0.176 Requires-Python >=3.8; 8.0.177 Requires-Python >=3.8; 8.0.178 Requires-Python >=3.8; 8.0.179 Requires-Python >=3.8; 8.0.180 Requires-Python >=3.8; 8.0.181 Requires-Python >=3.8; 8.0.182 Requires-Python >=3.8; 8.0.183 Requires-Python >=3.8; 8.0.184 Requires-Python >=3.8; 8.0.185 Requires-Python >=3.8; 8.0.186 Requires-Python >=3.8; 8.0.187 Requires-Python >=3.8; 8.0.188 Requires-Python >=3.8; 8.0.189 Requires-Python >=3.8; 8.0.190 Requires-Python >=3.8; 8.0.191 Requires-Python >=3.8; 8.0.192 Requires-Python >=3.8; 8.0.193 Requires-Python >=3.8; 8.0.194 Requires-Python >=3.8; 8.0.195 Requires-Python >=3.8; 8.0.196 Requires-Python >=3.8; 8.0.197 Requires-Python >=3.8; 8.0.198 Requires-Python >=3.8; 8.0.199 Requires-Python >=3.8; 8.0.200 Requires-Python >=3.8; 8.0.201 Requires-Python >=3.8; 8.0.202 Requires-Python >=3.8; 8.0.203 Requires-Python >=3.8; 8.0.204 Requires-Python >=3.8; 8.0.205 Requires-Python >=3.8; 8.0.206 Requires-Python >=3.8; 8.0.207 Requires-Python >=3.8; 8.0.208 Requires-Python >=3.8; 8.0.209 Requires-Python >=3.8; 8.0.210 Requires-Python >=3.8; 8.0.211 Requires-Python >=3.8; 8.0.212 Requires-Python >=3.8; 8.0.213 Requires-Python >=3.8; 8.0.214 Requires-Python >=3.8; 8.0.215 Requires-Python >=3.8; 8.0.216 Requires-Python >=3.8; 8.0.217 Requires-Python >=3.8; 8.0.218 Requires-Python >=3.8; 8.0.219 Requires-Python >=3.8; 8.0.220 Requires-Python >=3.8; 8.0.221 Requires-Python >=3.8; 8.0.222 Requires-Python >=3.8; 8.0.223 Requires-Python >=3.8; 8.0.224 Requires-Python >=3.8; 8.0.225 Requires-Python >=3.8\n",
      "ERROR: Could not find a version that satisfies the requirement ultralytics==8.0.196 (from versions: 0.0.13, 0.0.14, 0.0.15, 0.0.16, 0.0.17, 0.0.18, 0.0.19, 0.0.20, 0.0.21, 0.0.22, 0.0.23, 0.0.24, 0.0.25, 0.0.26, 0.0.27, 0.0.28, 0.0.29, 0.0.30, 0.0.31, 0.0.32, 0.0.33, 0.0.34, 0.0.35, 0.0.36, 0.0.37, 0.0.38, 0.0.39, 0.0.40, 0.0.41, 0.0.42, 0.0.43, 0.0.44, 8.0.0, 8.0.1, 8.0.2, 8.0.3, 8.0.4, 8.0.5, 8.0.6, 8.0.7, 8.0.8, 8.0.9, 8.0.10, 8.0.11, 8.0.12, 8.0.13, 8.0.14, 8.0.15, 8.0.16, 8.0.17, 8.0.18, 8.0.19, 8.0.20, 8.0.21, 8.0.22, 8.0.23, 8.0.24, 8.0.25, 8.0.26, 8.0.27, 8.0.28, 8.0.29, 8.0.30, 8.0.31, 8.0.32, 8.0.33, 8.0.34, 8.0.35, 8.0.36, 8.0.37, 8.0.38, 8.0.39, 8.0.40, 8.0.41, 8.0.42, 8.0.43, 8.0.44, 8.0.45, 8.0.46, 8.0.47, 8.0.48, 8.0.49, 8.0.50, 8.0.51, 8.0.52, 8.0.53, 8.0.54, 8.0.55, 8.0.56, 8.0.57, 8.0.58, 8.0.59, 8.0.60, 8.0.61, 8.0.62, 8.0.63, 8.0.64, 8.0.65, 8.0.66, 8.0.67, 8.0.68, 8.0.69, 8.0.70, 8.0.71, 8.0.72, 8.0.73, 8.0.74, 8.0.75, 8.0.76, 8.0.77, 8.0.78, 8.0.79, 8.0.80, 8.0.81, 8.0.82, 8.0.83, 8.0.84, 8.0.85, 8.0.86, 8.0.87, 8.0.88, 8.0.89, 8.0.90, 8.0.91, 8.0.92, 8.0.93, 8.0.94, 8.0.95, 8.0.96, 8.0.97, 8.0.98, 8.0.99, 8.0.100, 8.0.101, 8.0.102, 8.0.103, 8.0.104, 8.0.105, 8.0.106, 8.0.107, 8.0.108, 8.0.109, 8.0.110, 8.0.111, 8.0.112, 8.0.113, 8.0.114, 8.0.115, 8.0.116, 8.0.117, 8.0.118, 8.0.119, 8.0.120, 8.0.121, 8.0.122, 8.0.123, 8.0.124, 8.0.125, 8.0.126, 8.0.127, 8.0.128, 8.0.129, 8.0.130, 8.0.131, 8.0.132, 8.0.133, 8.0.134, 8.0.135, 8.0.136, 8.0.137, 8.0.138, 8.0.139, 8.0.140, 8.0.141, 8.0.142, 8.0.143, 8.0.144, 8.0.145, 8.0.146, 8.0.147, 8.0.148, 8.0.149, 8.0.150, 8.0.151)\n",
      "ERROR: No matching distribution found for ultralytics==8.0.196\n"
     ]
    }
   ],
   "source": [
    "!pip install ultralytics==8.0.196"
   ]
  },
  {
   "cell_type": "code",
   "execution_count": 4,
   "metadata": {},
   "outputs": [
    {
     "name": "stdout",
     "output_type": "stream",
     "text": [
      "Requirement already satisfied: numpy==1.18.5 in c:\\users\\user\\anaconda3\\lib\\site-packages (1.18.5)\n"
     ]
    }
   ],
   "source": [
    "!pip install numpy==1.18.5 --user"
   ]
  },
  {
   "cell_type": "code",
   "execution_count": null,
   "metadata": {},
   "outputs": [],
   "source": []
  }
 ],
 "metadata": {
  "kernelspec": {
   "display_name": "Python 3 (ipykernel)",
   "language": "python",
   "name": "python3"
  },
  "language_info": {
   "codemirror_mode": {
    "name": "ipython",
    "version": 3
   },
   "file_extension": ".py",
   "mimetype": "text/x-python",
   "name": "python",
   "nbconvert_exporter": "python",
   "pygments_lexer": "ipython3",
   "version": "3.7.16"
  }
 },
 "nbformat": 4,
 "nbformat_minor": 4
}
